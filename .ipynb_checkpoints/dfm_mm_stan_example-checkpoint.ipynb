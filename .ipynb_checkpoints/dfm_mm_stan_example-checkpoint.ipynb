{
 "cells": [
  {
   "cell_type": "markdown",
   "metadata": {},
   "source": [
    "# DFM Mixture Models with PyStan\n",
    "I've adapted Dan Foreman-Mackey's [excellent blog](http://dfm.io/posts/mixture-models/) on utilising marginalised mixture models ([Hogg et al. 2010](http://adsabs.harvard.edu/abs/2010arXiv1008.4686H)) using emcee to PyStan, achieving similar results. \n",
    "\n",
    "The main difference is in the treatment of the posterior probability calculation and the treatment of the parameter transformations in STAN.\n",
    "\n",
    "All code in this notebook that does not directly relate to the use of PyStan was writtenby Dan Foreman-Mackey in his blog, and the credit is his, not mine."
   ]
  },
  {
   "cell_type": "code",
   "execution_count": 1,
   "metadata": {},
   "outputs": [],
   "source": [
    "import numpy as np\n",
    "import matplotlib.pyplot as plt\n",
    "from tqdm import tqdm\n",
    "import seaborn as sns"
   ]
  },
  {
   "cell_type": "code",
   "execution_count": 2,
   "metadata": {},
   "outputs": [],
   "source": [
    "# We'll choose the parameters of our synthetic data.\n",
    "# The outlier probability will be 80%:\n",
    "true_frac = 0.8\n",
    "\n",
    "# The linear model has unit slope and zero intercept:\n",
    "true_params = [1.0, 0.0]\n",
    "\n",
    "# The outliers are drawn from a Gaussian with zero mean and unit variance:\n",
    "true_outliers = [0.0, 1.0]\n",
    "\n",
    "# For reproducibility, let's set the random number seed and generate the data:\n",
    "np.random.seed(12)\n",
    "x = np.sort(np.random.uniform(-2, 2, 15))\n",
    "yerr = 0.2 * np.ones_like(x)\n",
    "y = true_params[0] * x + true_params[1] + yerr * np.random.randn(len(x))\n",
    "\n",
    "#Save the truth\n",
    "truths = true_params + [true_frac, true_outliers[0], np.log(true_outliers[1])]\n",
    "\n",
    "# Those points are all drawn from the correct model so let's replace some of\n",
    "# them with outliers.\n",
    "m_bkg = np.random.rand(len(x)) > true_frac\n",
    "y[m_bkg] = true_outliers[0]\n",
    "y[m_bkg] += np.sqrt(true_outliers[1]+yerr[m_bkg]**2) * np.random.randn(sum(m_bkg))"
   ]
  },
  {
   "cell_type": "code",
   "execution_count": 3,
   "metadata": {},
   "outputs": [
    {
     "data": {
      "image/png": "[encoded data removed]",
      "text/plain": [
       "<matplotlib.figure.Figure at 0x7f38cb361550>"
      ]
     },
     "metadata": {},
     "output_type": "display_data"
    }
   ],
   "source": [
    "# First, fit the data and find the maximum likelihood model ignoring outliers.\n",
    "A = np.vander(x, 2)\n",
    "p = np.linalg.solve(np.dot(A.T, A / yerr[:, None]**2), np.dot(A.T, y / yerr**2))\n",
    "\n",
    "# Then save the *true* line.\n",
    "x0 = np.linspace(-2.1, 2.1, 200)\n",
    "y0 = np.dot(np.vander(x0, 2), true_params)\n",
    "\n",
    "# Plot the data and the truth.\n",
    "plt.errorbar(x, y, yerr=yerr, fmt=\",k\", ms=0, capsize=0, lw=1, zorder=999)\n",
    "plt.scatter(x[m_bkg], y[m_bkg], marker=\"s\", s=22, c=\"w\",edgecolor='k', zorder=1000)\n",
    "plt.scatter(x[~m_bkg], y[~m_bkg], marker=\"o\", s=22, c=\"k\", zorder=1000)\n",
    "plt.plot(x0, y0, color=\"k\", lw=1.5)\n",
    "\n",
    "# Plot the best fit line.\n",
    "plt.plot(x0, x0 * p[0] + p[1], color=\"#8d44ad\", lw=3, alpha=0.5)\n",
    "\n",
    "plt.xlabel(\"$x$\")\n",
    "plt.ylabel(\"$y$\")\n",
    "plt.ylim(-2.5, 2.5)\n",
    "plt.xlim(-2.1, 2.1);"
   ]
  },
  {
   "cell_type": "code",
   "execution_count": 4,
   "metadata": {},
   "outputs": [
    {
     "ename": "ValueError",
     "evalue": "Failed to parse Stan model 'dfmmm_a720793ed3390db0ab2bef2292e2d2a9'. Error message:\nSYNTAX ERROR, MESSAGE(S) FROM PARSER:\n\nvariable identifier (name) may not be reserved word\n    found identifier=var\n  error in 'unknown file name' at line 17, column 9\n  -------------------------------------------------\n    15: transformed parameters{\n    16:     real line[N];\n    17:     real var[N];\n                ^\n    18:     for (i in 1:N)\n  -------------------------------------------------\n\nPARSER EXPECTED: <identifier>\n",
     "output_type": "error",
     "traceback": [
      "\u001b[0;31m---------------------------------------------------------------------------\u001b[0m",
      "\u001b[0;31mValueError\u001b[0m                                Traceback (most recent call last)",
      "\u001b[0;32m<ipython-input-4-43689b65874a>\u001b[0m in \u001b[0;36m<module>\u001b[0;34m()\u001b[0m\n\u001b[1;32m     36\u001b[0m }\n\u001b[1;32m     37\u001b[0m '''\n\u001b[0;32m---> 38\u001b[0;31m \u001b[0msm\u001b[0m \u001b[0;34m=\u001b[0m \u001b[0mpystan\u001b[0m\u001b[0;34m.\u001b[0m\u001b[0mStanModel\u001b[0m\u001b[0;34m(\u001b[0m\u001b[0mmodel_code\u001b[0m \u001b[0;34m=\u001b[0m \u001b[0mcode\u001b[0m\u001b[0;34m,\u001b[0m \u001b[0mmodel_name\u001b[0m\u001b[0;34m=\u001b[0m\u001b[0;34m'dfmmm'\u001b[0m\u001b[0;34m)\u001b[0m\u001b[0;34m\u001b[0m\u001b[0m\n\u001b[0m",
      "\u001b[0;32m/usr/local/lib/python2.7/dist-packages/pystan/model.pyc\u001b[0m in \u001b[0;36m__init__\u001b[0;34m(self, file, charset, model_name, model_code, stanc_ret, boost_lib, eigen_lib, verbose, obfuscate_model_name, extra_compile_args)\u001b[0m\n\u001b[1;32m    211\u001b[0m                                          \u001b[0mmodel_name\u001b[0m\u001b[0;34m=\u001b[0m\u001b[0mmodel_name\u001b[0m\u001b[0;34m,\u001b[0m\u001b[0;34m\u001b[0m\u001b[0m\n\u001b[1;32m    212\u001b[0m                                          \u001b[0mverbose\u001b[0m\u001b[0;34m=\u001b[0m\u001b[0mverbose\u001b[0m\u001b[0;34m,\u001b[0m\u001b[0;34m\u001b[0m\u001b[0m\n\u001b[0;32m--> 213\u001b[0;31m                                          obfuscate_model_name=obfuscate_model_name)\n\u001b[0m\u001b[1;32m    214\u001b[0m \u001b[0;34m\u001b[0m\u001b[0m\n\u001b[1;32m    215\u001b[0m         \u001b[0;32mif\u001b[0m \u001b[0;32mnot\u001b[0m \u001b[0misinstance\u001b[0m\u001b[0;34m(\u001b[0m\u001b[0mstanc_ret\u001b[0m\u001b[0;34m,\u001b[0m \u001b[0mdict\u001b[0m\u001b[0;34m)\u001b[0m\u001b[0;34m:\u001b[0m\u001b[0;34m\u001b[0m\u001b[0m\n",
      "\u001b[0;32m/usr/local/lib/python2.7/dist-packages/pystan/api.pyc\u001b[0m in \u001b[0;36mstanc\u001b[0;34m(file, charset, model_code, model_name, verbose, obfuscate_model_name)\u001b[0m\n\u001b[1;32m    132\u001b[0m             \u001b[0mmsg\u001b[0m \u001b[0;34m=\u001b[0m \u001b[0mmsg\u001b[0m\u001b[0;34m.\u001b[0m\u001b[0mencode\u001b[0m\u001b[0;34m(\u001b[0m\u001b[0;34m'ascii'\u001b[0m\u001b[0;34m,\u001b[0m \u001b[0;34m'replace'\u001b[0m\u001b[0;34m)\u001b[0m\u001b[0;34m\u001b[0m\u001b[0m\n\u001b[1;32m    133\u001b[0m         \u001b[0merror_msg\u001b[0m \u001b[0;34m=\u001b[0m \u001b[0;34m\"Failed to parse Stan model '{}'. Error message:\\n{}\"\u001b[0m\u001b[0;34m.\u001b[0m\u001b[0mformat\u001b[0m\u001b[0;34m(\u001b[0m\u001b[0mmodel_name\u001b[0m\u001b[0;34m,\u001b[0m \u001b[0mmsg\u001b[0m\u001b[0;34m)\u001b[0m\u001b[0;34m\u001b[0m\u001b[0m\n\u001b[0;32m--> 134\u001b[0;31m         \u001b[0;32mraise\u001b[0m \u001b[0mValueError\u001b[0m\u001b[0;34m(\u001b[0m\u001b[0merror_msg\u001b[0m\u001b[0;34m)\u001b[0m\u001b[0;34m\u001b[0m\u001b[0m\n\u001b[0m\u001b[1;32m    135\u001b[0m     \u001b[0;32melif\u001b[0m \u001b[0mresult\u001b[0m\u001b[0;34m[\u001b[0m\u001b[0;34m'status'\u001b[0m\u001b[0;34m]\u001b[0m \u001b[0;34m==\u001b[0m \u001b[0;36m0\u001b[0m\u001b[0;34m:\u001b[0m  \u001b[0;31m# SUCCESS_RC is 0\u001b[0m\u001b[0;34m\u001b[0m\u001b[0m\n\u001b[1;32m    136\u001b[0m         \u001b[0mlogger\u001b[0m\u001b[0;34m.\u001b[0m\u001b[0mdebug\u001b[0m\u001b[0;34m(\u001b[0m\u001b[0;34m\"Successfully parsed Stan model '{}'.\"\u001b[0m\u001b[0;34m.\u001b[0m\u001b[0mformat\u001b[0m\u001b[0;34m(\u001b[0m\u001b[0mmodel_name\u001b[0m\u001b[0;34m)\u001b[0m\u001b[0;34m)\u001b[0m\u001b[0;34m\u001b[0m\u001b[0m\n",
      "\u001b[0;31mValueError\u001b[0m: Failed to parse Stan model 'dfmmm_a720793ed3390db0ab2bef2292e2d2a9'. Error message:\nSYNTAX ERROR, MESSAGE(S) FROM PARSER:\n\nvariable identifier (name) may not be reserved word\n    found identifier=var\n  error in 'unknown file name' at line 17, column 9\n  -------------------------------------------------\n    15: transformed parameters{\n    16:     real line[N];\n    17:     real var[N];\n                ^\n    18:     for (i in 1:N)\n  -------------------------------------------------\n\nPARSER EXPECTED: <identifier>\n"
     ]
    }
   ],
   "source": [
    "#Now we have to put this through PyStan\n",
    "import pystan\n",
    "code = '''\n",
    "data {\n",
    "    int<lower = 0> N;\n",
    "    real x[N];\n",
    "    real y[N];\n",
    "    real err[N];\n",
    "}\n",
    "parameters {\n",
    "    real m;\n",
    "    real b;\n",
    "    real<lower=0, upper=1> Q;\n",
    "    real M;\n",
    "    real lnV;\n",
    "}\n",
    "transformed parameters{\n",
    "    real line[N];\n",
    "    real var[N];\n",
    "    for (i in 1:N)\n",
    "        line[i] = m * x[i] + b;\n",
    "    for (i in 1:N)\n",
    "        var[i] = err[i]^2 + exp(lnV);\n",
    "}\n",
    "model {\n",
    "    m ~ normal(1., 0.9);\n",
    "    b ~ normal(0., 0.9);\n",
    "    Q ~ normal(0.5,.5);\n",
    "    M ~ normal(0., 2.4);\n",
    "    lnV ~ normal(-1.,4.);\n",
    "    \n",
    "    for (n in 1:N)\n",
    "        target += log_mix(Q,\n",
    "                    normal_lpdf(y[n] | line[n], err[n]),\n",
    "                    normal_lpdf(y[n] | M, Vsig[n]));\n",
    "}\n",
    "'''\n",
    "sm = pystan.StanModel(model_code = code, model_name='dfmmm')"
   ]
  },
  {
   "cell_type": "code",
   "execution_count": null,
   "metadata": {},
   "outputs": [],
   "source": [
    "#Load in the data\n",
    "dat = {'N': len(x),\n",
    "      'x': x,\n",
    "      'y': y,\n",
    "      'err':yerr}\n",
    "fit = sm.sampling(data=dat, iter=1500, chains=32)"
   ]
  },
  {
   "cell_type": "code",
   "execution_count": null,
   "metadata": {},
   "outputs": [],
   "source": [
    "import corner\n",
    "trace = fit.extract()\n",
    "chain = np.array([trace['m'],trace['b'],trace['Q'],trace['M'],trace['lnV']])\n",
    "corner.corner(chain.T,\\\n",
    "             labels=['m','b','Q','M','lnV'],\\\n",
    "             truths=truths)\n",
    "plt.show()"
   ]
  },
  {
   "cell_type": "code",
   "execution_count": null,
   "metadata": {},
   "outputs": [],
   "source": [
    "fit.plot()\n",
    "plt.show()"
   ]
  },
  {
   "cell_type": "code",
   "execution_count": null,
   "metadata": {},
   "outputs": [],
   "source": [
    "# Compute the quantiles of the predicted line and plot them.\n",
    "A = np.vander(x0, 2)\n",
    "lines = np.dot(chain.T[:,:2], A.T)\n",
    "quantiles = np.percentile(lines, [16, 84], axis=0)\n",
    "plt.fill_between(x0, quantiles[0], quantiles[1], color=\"#8d44ad\", alpha=0.5)\n",
    "\n",
    "# Plot the data.\n",
    "plt.errorbar(x, y, yerr=yerr, fmt=\",k\", ms=0, capsize=0, lw=1, zorder=999)\n",
    "plt.scatter(x, y, marker=\"o\", s=22, c=\"k\", zorder=1000)\n",
    "\n",
    "# Plot the true line.\n",
    "plt.plot(x0, y0, color=\"k\", lw=1.5)\n",
    "\n",
    "plt.xlabel(\"$x$\")\n",
    "plt.ylabel(\"$y$\")\n",
    "plt.ylim(-2.5, 2.5)\n",
    "plt.xlim(-2.1, 2.1);"
   ]
  },
  {
   "cell_type": "code",
   "execution_count": 5,
   "metadata": {},
   "outputs": [],
   "source": [
    "#Lets define a normal distribution function for ease of access\n",
    "def normal(x, mu, sigma2):\n",
    "    N = (1/np.sqrt(2*np.pi*sigma2)) * np.exp(-(x - mu)**2 / (2*sigma2))\n",
    "    return N"
   ]
  },
  {
   "cell_type": "code",
   "execution_count": 76,
   "metadata": {},
   "outputs": [],
   "source": [
    "#We don't have access to blobs like we would with emcee, so we'll have to recalculate the likelihood functions\n",
    "norm = 0.0\n",
    "post_prob = np.zeros(len(x)) \n",
    "for n in range(trace['Q'].shape[0]):\n",
    "    #Calculate the probability functions at this iteration n the hard way\n",
    "    ll_fg = np.log(trace['Q'][n] * normal(y, trace['line'][n], yerr))\n",
    "    ll_bg = np.log((1-trace['Q'][n]) * normal(y, trace['M'][n], trace['Vsig'][n]))\n",
    "    \n",
    "    #Calculate the posterior probability using log space\n",
    "    post_prob += np.exp(ll_fg - np.logaddexp(ll_fg, ll_bg))\n",
    "    norm += 1\n",
    "post_prob /= norm"
   ]
  },
  {
   "cell_type": "code",
   "execution_count": 78,
   "metadata": {},
   "outputs": [
    {
     "name": "stdout",
     "output_type": "stream",
     "text": [
      "0.648, 0.905, 0.090, 0.882, 0.090, 0.815, 0.802, 0.792, 0.817, 0.965, 0.001, 0.987, 0.989, 0.991, 0.977\n"
     ]
    }
   ],
   "source": [
    "print(\", \".join(map(\"{0:.3f}\".format, post_prob)))"
   ]
  },
  {
   "cell_type": "code",
   "execution_count": 77,
   "metadata": {},
   "outputs": [
    {
     "data": {
      "text/plain": [
       "(-2.1, 2.1)"
      ]
     },
     "execution_count": 77,
     "metadata": {},
     "output_type": "execute_result"
    },
    {
     "data": {
      "image/png": "[encoded data removed]",
      "text/plain": [
       "<matplotlib.figure.Figure at 0x7f0366947ed0>"
      ]
     },
     "metadata": {},
     "output_type": "display_data"
    }
   ],
   "source": [
    "# Plot the predition.\n",
    "plt.fill_between(x0, quantiles[0], quantiles[1], color=\"#8d44ad\", alpha=0.5)\n",
    "\n",
    "# Plot the data points.\n",
    "plt.errorbar(x, y, yerr=yerr, fmt=\",k\", ms=0, capsize=0, lw=1, zorder=999)\n",
    "# Plot the (true) outliers.\n",
    "plt.scatter(x[m_bkg], y[m_bkg], marker=\"s\", s=22, c=post_prob[m_bkg], cmap=\"viridis\", vmin=0, vmax=1, zorder=1000)\n",
    "# Plot the (true) good points.\n",
    "plt.scatter(x[~m_bkg], y[~m_bkg], marker=\"o\", s=22, c=post_prob[~m_bkg], cmap=\"viridis\", vmin=0, vmax=1, zorder=1000)\n",
    "\n",
    "# Plot the true line.\n",
    "plt.plot(x0, y0, color=\"k\", lw=1.5)\n",
    "\n",
    "#Add a colorbar\n",
    "plt.colorbar(c, label='Postprob')\n",
    "\n",
    "plt.xlabel(\"$x$\")\n",
    "plt.ylabel(\"$y$\")\n",
    "plt.ylim(-2.5, 2.5)\n",
    "plt.xlim(-2.1, 2.1)"
   ]
  }
 ],
 "metadata": {
  "kernelspec": {
   "display_name": "Python 2",
   "language": "python",
   "name": "python2"
  },
  "language_info": {
   "codemirror_mode": {
    "name": "ipython",
    "version": 2
   },
   "file_extension": ".py",
   "mimetype": "text/x-python",
   "name": "python",
   "nbconvert_exporter": "python",
   "pygments_lexer": "ipython2",
   "version": "2.7.12"
  }
 },
 "nbformat": 4,
 "nbformat_minor": 2
}
